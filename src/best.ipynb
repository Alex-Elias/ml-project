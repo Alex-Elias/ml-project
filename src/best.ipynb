{
 "cells": [
  {
   "cell_type": "code",
   "execution_count": null,
   "metadata": {},
   "outputs": [],
   "source": [
    "import pandas as pd\n",
    "import numpy as np\n",
    "from preprocess import *\n",
    "from regression import *\n",
    "\n",
    "from sklearn.metrics import r2_score \n",
    "\n",
    "from sklearn.model_selection import train_test_split\n",
    "from sklearn.metrics import mean_absolute_error\n",
    "\n",
    "from sklearn import svm\n",
    "from sklearn.feature_selection import SelectFromModel\n",
    "\n",
    "from sklearn.model_selection import cross_validate\n",
    "from sklearn.ensemble import RandomForestRegressor\n",
    "from sklearn.preprocessing import StandardScaler"
   ]
  },
  {
   "cell_type": "code",
   "execution_count": null,
   "metadata": {},
   "outputs": [],
   "source": [
    "df_train = pd.read_csv(\"../data/train.csv\")\n",
    "df_test = pd.read_csv(\"../data/test.csv\")\n",
    "\n",
    "df_train = df_train.drop('Id',axis=1)   # remove ID column.\n",
    "\n",
    "#MW * NumOfO * NUMOFN\n",
    "df_train[\"MW_NumOfO_NumOfN\"] = df_train[\"MW\"] * df_train[\"NumOfO\"]  * df_train[\"NumOfN\"]\n",
    "df_test[\"MW_NumOfO_NumOfN\"] = df_test[\"MW\"] * df_test[\"NumOfO\"] * df_test[\"NumOfN\"]\n",
    "#MW * NumOfO\n",
    "df_train[\"MW_NumOfO\"] = df_train[\"MW\"] * df_train[\"NumOfO\"] \n",
    "df_test[\"MW_NumOfO\"] = df_test[\"MW\"] * df_test[\"NumOfO\"]\n",
    "#MW * NumOfN\n",
    "df_train[\"MW_NumOfN\"] = df_train[\"MW\"] * df_train[\"NumOfN\"] \n",
    "df_test[\"MW_NumOfN\"] = df_test[\"MW\"] * df_test[\"NumOfN\"]\n",
    "#NumOfAtoms * NumofC\n",
    "df_train[\"NumOfAtoms_NumOfC\"] = df_train[\"NumOfAtoms\"] * df_train[\"NumOfC\"] \n",
    "df_test[\"NumOfAtoms_NumOfC\"] = df_test[\"NumOfAtoms\"] * df_test[\"NumOfC\"]\n",
    "#NumHBondDonors * hydroxyl..alkyl.\n",
    "df_train[\"NumHBondDonors_hydroxyl..alkyl.\"] = df_train[\"NumHBondDonors\"] * df_train[\"hydroxyl..alkyl.\"] \n",
    "df_test[\"NumHBondDonors_hydroxyl..alkyl.\"] = df_test[\"NumHBondDonors\"] * df_test[\"hydroxyl..alkyl.\"]\n",
    "\n",
    "edf_train, enc = generate_encoding(df_train)    # encode the training data.\n",
    "edf_test = apply_encoding(df_test.drop('Id', axis=1), enc)  # encode test data with the same encoder.\n",
    "\n",
    "X_train = normalize_dataset_2(edf_train.loc[:,edf_train.columns != 'pSat_Pa'],[\"MW\",\"MW_NumOfO_NumOfN\",\"MW_NumOfO\",\"MW_NumOfN\",\"NumOfConf\",\"NumOfConfUsed\",\"NumOfAtoms\",\"NumOfC\",\"NumOfO\",\"NumHBondDonors\",\"carbonylperoxyacid\",\"NumOfN\",\"ketone\",\"ester\",\"C.C..non.aromatic.\",\"NumOfAtoms_NumOfC\",\"NumHBondDonors_hydroxyl..alkyl.\"])\n",
    "y_train = np.log10(edf_train.loc[:, 'pSat_Pa'])\n",
    "X_test = normalize_dataset_2(edf_test,[\"MW\",\"MW_NumOfO_NumOfN\",\"MW_NumOfO\",\"MW_NumOfN\",\"NumOfConf\",\"NumOfConfUsed\",\"NumOfAtoms\",\"NumOfC\",\"NumOfO\",\"NumHBondDonors\",\"carbonylperoxyacid\",\"NumOfN\",\"ketone\",\"ester\",\"C.C..non.aromatic.\",\"NumOfAtoms_NumOfC\",\"NumHBondDonors_hydroxyl..alkyl.\"])\n",
    "\n",
    "X_train[\"parentspecies\"] = X_train[\"parentspecies\"].astype(float)\n",
    "X_test[\"parentspecies\"] = X_test[\"parentspecies\"].astype(float)\n"
   ]
  },
  {
   "cell_type": "code",
   "execution_count": null,
   "metadata": {},
   "outputs": [],
   "source": [
    "regr = RandomForestRegressor(n_estimators=100, n_jobs=-1, criterion=\"absolute_error\")\n",
    "estimator = regr.fit(X_train, y_train)\n",
    "\n",
    "\n",
    "fse = SelectFromModel(estimator, threshold=1e-4, prefit=True)\n",
    "\n",
    "fse = fse.fit(X_train, y_train)\n",
    "rf_predictions = fse.estimator_.predict(X_test)"
   ]
  },
  {
   "cell_type": "code",
   "execution_count": null,
   "metadata": {},
   "outputs": [],
   "source": [
    "params = {'coef0': 0.07764543524762932, 'tol': 4.218255155043568e-05, 'C': 6.660061688807354, 'epsilon': 0.2494711641166569}\n",
    "reggressor = svm.SVR(**params)\n",
    "reggressor = reggressor.fit(X_train, y_train)\n",
    "\n",
    "fse = SelectFromModel(estimator=reggressor,\n",
    "                       threshold=1e-6,\n",
    "                       prefit=True)\n",
    "\n",
    "fse = fse.fit(X_train, y_train)\n",
    "predict = fse.estimator_.predict(X_test)"
   ]
  },
  {
   "cell_type": "code",
   "execution_count": null,
   "metadata": {},
   "outputs": [],
   "source": [
    "model_names = [\"svr\", \"rf\"]\n",
    "\n",
    "\n",
    "all_predictions = {\"svr\": predict, \"rf\": rf_predictions}\n",
    "\n",
    "\n",
    "weights = {'svr': 100, 'rf': 38}\n",
    "\n",
    "\n",
    "ensemble_prediction = np.sum([weights[name] * all_predictions[name] for name in model_names], axis=0)/sum(weights.values())\n",
    "   "
   ]
  }
 ],
 "metadata": {
  "language_info": {
   "name": "python"
  }
 },
 "nbformat": 4,
 "nbformat_minor": 2
}
